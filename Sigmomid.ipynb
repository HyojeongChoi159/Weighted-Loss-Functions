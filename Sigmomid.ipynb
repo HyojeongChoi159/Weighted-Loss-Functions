{
 "cells": [
  {
   "cell_type": "code",
   "execution_count": 5,
   "id": "953924f5",
   "metadata": {},
   "outputs": [],
   "source": [
    "import tensorflow as tf\n",
    "\n",
    "class Weighted_sigmoid(tf.keras.losses.Loss):\n",
    "    def __init__(self, alpha=29, max_value=76.6, k=0.1, name=\"Weighted_sigmoid\", reduction=tf.keras.losses.Reduction.AUTO):\n",
    "        super(Weighted_sigmoid, self).__init__(name=name, reduction=reduction)\n",
    "        self.alpha = alpha\n",
    "        self.max_value = max_value\n",
    "        self.k = k\n",
    "\n",
    "    def sigmoid_like_weight(self, x):\n",
    "        t = -(x - self.max_value / 2) * self.k\n",
    "        sigmoid = 1 / (1 + tf.exp(t))\n",
    "        return 1 + self.alpha * sigmoid\n",
    "\n",
    "    def call(self, y_true, y_pred):\n",
    "        y_true_rain = y_true[..., 0:1] \n",
    "        y_pred_rain = y_pred[..., 0:1]  \n",
    "\n",
    "        error = y_true_rain - y_pred_rain  \n",
    "        sample_weight = self.sigmoid_like_weight(y_true_rain)\n",
    "\n",
    "        weighted_error = sample_weight * tf.square(error)  \n",
    "        return tf.reduce_mean(weighted_error, axis=0)\n",
    "\n",
    "    def get_config(self):\n",
    "        config = super(Weighted_sigmoid, self).get_config()\n",
    "        config.update({'alpha': self.alpha, 'max_value': self.max_value, 'k': self.k})\n",
    "        return config\n",
    "\n",
    "    @classmethod\n",
    "    def from_config(cls, config):\n",
    "        return cls(**config)"
   ]
  },
  {
   "cell_type": "code",
   "execution_count": null,
   "id": "536796de-b584-4bdc-b590-a3c22420ed2a",
   "metadata": {},
   "outputs": [],
   "source": []
  }
 ],
 "metadata": {
  "kernelspec": {
   "display_name": "Python 3 (ipykernel)",
   "language": "python",
   "name": "python3"
  },
  "language_info": {
   "codemirror_mode": {
    "name": "ipython",
    "version": 3
   },
   "file_extension": ".py",
   "mimetype": "text/x-python",
   "name": "python",
   "nbconvert_exporter": "python",
   "pygments_lexer": "ipython3",
   "version": "3.10.17"
  }
 },
 "nbformat": 4,
 "nbformat_minor": 5
}

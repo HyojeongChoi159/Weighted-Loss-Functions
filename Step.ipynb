{
 "cells": [
  {
   "cell_type": "markdown",
   "id": "1ad9b46e-62ef-4afa-a173-a3d9d13a674a",
   "metadata": {},
   "source": [
    "# step v1"
   ]
  },
  {
   "cell_type": "code",
   "execution_count": 6,
   "id": "2eff751c",
   "metadata": {},
   "outputs": [],
   "source": [
    "import tensorflow as tf\n",
    "\n",
    "class Weighted_Step(tf.keras.losses.Loss):\n",
    "    def __init__(self,\n",
    "                 name=\"Weighted_Step\",\n",
    "                 reduction=tf.keras.losses.Reduction.AUTO):\n",
    "        super(Weighted_Step, self).__init__(name=name, reduction=reduction)\n",
    "\n",
    "    def call(self, y_true, y_pred):\n",
    "        y_true_rain = y_true[..., 0:1]  \n",
    "        y_pred_rain = y_pred[..., 0:1]  \n",
    "\n",
    "        error = y_true_rain - y_pred_rain  \n",
    "\n",
    "        sample_weight = tf.where(y_true_rain < 0.026, 1.0,\n",
    "                        tf.where(tf.logical_and(y_true_rain >= 0.026, y_true_rain < 0.108), 2.0,\n",
    "                        tf.where(tf.logical_and(y_true_rain >= 0.108, y_true_rain < 0.456), 5.0,\n",
    "                        tf.where(tf.logical_and(y_true_rain >= 0.456, y_true_rain < 1.922), 10.0, 30.0))))\n",
    "\n",
    "        weighted_error = sample_weight * tf.square(error)  \n",
    "        return tf.reduce_mean(weighted_error, axis=0)\n",
    "\n",
    "    def get_config(self):\n",
    "        config = super(Weighted_Step, self).get_config()\n",
    "        return config\n",
    "\n",
    "    @classmethod\n",
    "    def from_config(cls, config):\n",
    "        return cls(**config)\n",
    "\n"
   ]
  },
  {
   "cell_type": "code",
   "execution_count": null,
   "id": "ee682ca0",
   "metadata": {},
   "outputs": [],
   "source": []
  }
 ],
 "metadata": {
  "kernelspec": {
   "display_name": "Python 3 (ipykernel)",
   "language": "python",
   "name": "python3"
  },
  "language_info": {
   "codemirror_mode": {
    "name": "ipython",
    "version": 3
   },
   "file_extension": ".py",
   "mimetype": "text/x-python",
   "name": "python",
   "nbconvert_exporter": "python",
   "pygments_lexer": "ipython3",
   "version": "3.10.17"
  }
 },
 "nbformat": 4,
 "nbformat_minor": 5
}

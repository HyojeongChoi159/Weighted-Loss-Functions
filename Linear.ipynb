{
 "cells": [
  {
   "cell_type": "code",
   "execution_count": 5,
   "id": "438f1f3b",
   "metadata": {},
   "outputs": [],
   "source": [
    "import tensorflow as tf\n",
    "\n",
    "class Weighted_Linear(tf.keras.losses.Loss):\n",
    "    def __init__(self, alpha=1.0, name=\"Weighted_Linear\",\n",
    "                 reduction=tf.keras.losses.Reduction.AUTO):\n",
    "        super().__init__(name=name, reduction=reduction)\n",
    "        self.alpha = alpha\n",
    "\n",
    "    def call(self, y_true, y_pred):\n",
    "        y_true_rain = y_true[..., 0:1] \n",
    "        y_pred_rain = y_pred[..., 0:1]  \n",
    "\n",
    "        error = y_true_rain - y_pred_rain  \n",
    "        sample_weight = self.alpha * y_true_rain + 1  \n",
    "\n",
    "        weighted_error = sample_weight * tf.square(error)  \n",
    "        return tf.reduce_mean(weighted_error, axis=0)\n",
    "\n",
    "    def get_config(self):\n",
    "        config = super(Weighted_Linear, self).get_config()\n",
    "        config.update({\"alpha\": self.alpha})\n",
    "        return config\n",
    "\n",
    "    @classmethod\n",
    "    def from_config(cls, config):\n",
    "        return cls(**config)\n",
    "\n"
   ]
  },
  {
   "cell_type": "code",
   "execution_count": null,
   "id": "5eb4bcc3-8936-463b-8492-444b5bbda296",
   "metadata": {},
   "outputs": [],
   "source": []
  }
 ],
 "metadata": {
  "kernelspec": {
   "display_name": "Python 3 (ipykernel)",
   "language": "python",
   "name": "python3"
  },
  "language_info": {
   "codemirror_mode": {
    "name": "ipython",
    "version": 3
   },
   "file_extension": ".py",
   "mimetype": "text/x-python",
   "name": "python",
   "nbconvert_exporter": "python",
   "pygments_lexer": "ipython3",
   "version": "3.10.17"
  }
 },
 "nbformat": 4,
 "nbformat_minor": 5
}

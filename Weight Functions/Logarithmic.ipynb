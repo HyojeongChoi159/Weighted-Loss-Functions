{
 "cells": [
  {
   "cell_type": "code",
   "execution_count": 3,
   "id": "31bef272",
   "metadata": {},
   "outputs": [],
   "source": [
    "import tensorflow as tf\n",
    "\n",
    "class Weighted_log(tf.keras.losses.Loss):\n",
    "    def __init__(self, alpha=7.0, name=\"Weighted_log\", reduction=tf.keras.losses.Reduction.AUTO):\n",
    "        super(Weighted_log, self).__init__(name=name, reduction=reduction)\n",
    "        self.alpha = alpha\n",
    "\n",
    "    def call(self, y_true, y_pred):\n",
    "        y_true_rain = y_true[..., 0:1]  \n",
    "        y_pred_rain = y_pred[..., 0:1]  \n",
    "\n",
    "        error = y_true_rain - y_pred_rain\n",
    "        sample_weight = self.alpha * tf.math.log(y_true_rain + 1) + 1\n",
    "        \n",
    "        weighted_error = sample_weight * tf.square(error) \n",
    "        return tf.reduce_mean(weighted_error, axis=0)\n",
    "\n",
    "    def get_config(self):\n",
    "        config = super(Weighted_log, self).get_config()\n",
    "        config.update({\"alpha\": self.alpha})\n",
    "        return config\n",
    "\n",
    "    @classmethod\n",
    "    def from_config(cls, config):\n",
    "        return cls(**config)\n",
    "\n"
   ]
  },
  {
   "cell_type": "code",
   "execution_count": null,
   "id": "5b04e470-244a-47a4-bffe-586fc68e5c1f",
   "metadata": {},
   "outputs": [],
   "source": []
  }
 ],
 "metadata": {
  "kernelspec": {
   "display_name": "Python 3 (ipykernel)",
   "language": "python",
   "name": "python3"
  },
  "language_info": {
   "codemirror_mode": {
    "name": "ipython",
    "version": 3
   },
   "file_extension": ".py",
   "mimetype": "text/x-python",
   "name": "python",
   "nbconvert_exporter": "python",
   "pygments_lexer": "ipython3",
   "version": "3.10.17"
  }
 },
 "nbformat": 4,
 "nbformat_minor": 5
}

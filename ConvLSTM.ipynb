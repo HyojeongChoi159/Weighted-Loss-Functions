{
 "cells": [
  {
   "cell_type": "code",
   "execution_count": 4,
   "id": "3e51fae0",
   "metadata": {},
   "outputs": [],
   "source": [
    "# ConvLSTM\n",
    "model=Sequential()\n",
    "model.add(ConvLSTM2D(filters=32,\n",
    "                     kernel_size=(3,3),padding='same',\n",
    "                     kernel_initializer='HeNormal',\n",
    "                     input_shape=(None, 40, 40, 1),  \n",
    "                     activation=\"tanh\",\n",
    "                     return_sequences=True))\n",
    "model.add(LayerNormalization())\n",
    "model.add(ConvLSTM2D(filters=32,\n",
    "                     kernel_size=(3,3),padding='same',\n",
    "                     kernel_initializer='HeNormal',\n",
    "                     activation=\"tanh\",\n",
    "                     return_sequences=True))\n",
    "model.add(LayerNormalization())\n",
    "model.add(ConvLSTM2D(filters=32,\n",
    "                     kernel_size=(3,3),padding='same',\n",
    "                     kernel_initializer='HeNormal',\n",
    "                     activation=\"tanh\",\n",
    "                     return_sequences=True))\n",
    "model.add(LayerNormalization())\n",
    "model.add(Conv3D(filters=1,\n",
    "                 kernel_size=(3,3,3),padding='same',\n",
    "                 activation='linear',\n",
    "                 data_format='channels_last'))"
   ]
  },
  {
   "cell_type": "code",
   "execution_count": null,
   "id": "a9b2632f",
   "metadata": {},
   "outputs": [],
   "source": []
  }
 ],
 "metadata": {
  "kernelspec": {
   "display_name": "Python 3 (ipykernel)",
   "language": "python",
   "name": "python3"
  },
  "language_info": {
   "codemirror_mode": {
    "name": "ipython",
    "version": 3
   },
   "file_extension": ".py",
   "mimetype": "text/x-python",
   "name": "python",
   "nbconvert_exporter": "python",
   "pygments_lexer": "ipython3",
   "version": "3.10.17"
  }
 },
 "nbformat": 4,
 "nbformat_minor": 5
}

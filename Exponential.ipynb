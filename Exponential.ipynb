{
 "cells": [
  {
   "cell_type": "code",
   "execution_count": 6,
   "id": "4362ce77",
   "metadata": {},
   "outputs": [],
   "source": [
    "import tensorflow as tf\n",
    "\n",
    "class Weighted_Exponential(tf.keras.losses.Loss):\n",
    "    def __init__(self, alpha=1.05, name=\"Weighted_Exponential\",\n",
    "                 reduction=tf.keras.losses.Reduction.AUTO):\n",
    "        super(Weighted_Exponential, self).__init__(name=name, reduction=reduction)\n",
    "        self.alpha = alpha\n",
    "\n",
    "\n",
    "    def call(self, y_true, y_pred):\n",
    "        y_true_rain = y_true[..., 0:1]  \n",
    "        y_pred_rain = y_pred[..., 0:1]  \n",
    "\n",
    "        error = y_true_rain - y_pred_rain  \n",
    "        sample_weight = tf.math.pow(self.alpha, y_true_rain)  \n",
    "        \n",
    "        weighted_error = sample_weight * tf.square(error)   \n",
    "        return tf.reduce_mean(weighted_error, axis=0)\n",
    "\n",
    "    def get_config(self):\n",
    "        config = super(Weighted_Exponential, self).get_config()\n",
    "        config.update({\"alpha\": self.alpha})\n",
    "        return config\n",
    "\n",
    "    @classmethod\n",
    "    def from_config(cls, config):\n",
    "        return cls(**config)\n"
   ]
  },
  {
   "cell_type": "code",
   "execution_count": null,
   "id": "33c71773-bc76-495f-8651-0d95cc8b9c77",
   "metadata": {},
   "outputs": [],
   "source": []
  }
 ],
 "metadata": {
  "kernelspec": {
   "display_name": "Python 3 (ipykernel)",
   "language": "python",
   "name": "python3"
  },
  "language_info": {
   "codemirror_mode": {
    "name": "ipython",
    "version": 3
   },
   "file_extension": ".py",
   "mimetype": "text/x-python",
   "name": "python",
   "nbconvert_exporter": "python",
   "pygments_lexer": "ipython3",
   "version": "3.10.17"
  }
 },
 "nbformat": 4,
 "nbformat_minor": 5
}
